{
 "cells": [
  {
   "cell_type": "markdown",
   "id": "a31cf322",
   "metadata": {},
   "source": [
    "## Setup"
   ]
  },
  {
   "cell_type": "code",
   "execution_count": 1,
   "id": "e49dd0be",
   "metadata": {},
   "outputs": [],
   "source": [
    "import pandas as pd\n",
    "\n",
    "from sklearn.model_selection import train_test_split\n",
    "from sklearn.linear_model import LogisticRegression\n",
    "from sklearn.metrics import classification_report\n",
    "\n",
    "from sklearn.feature_extraction.text import TfidfVectorizer\n",
    "\n",
    "from sklearn.model_selection import cross_val_score, StratifiedKFold\n",
    "from sklearn.naive_bayes import MultinomialNB\n",
    "from sklearn.ensemble import RandomForestClassifier\n",
    "from sklearn.naive_bayes import GaussianNB\n",
    "\n",
    "from imblearn.over_sampling import SMOTE\n",
    "from imblearn.pipeline import Pipeline as ImbPipeline\n",
    "import numpy as np\n",
    "\n",
    "from sklearn.preprocessing import StandardScaler\n",
    "\n",
    "pd.set_option('display.max_columns', None)"
   ]
  },
  {
   "cell_type": "code",
   "execution_count": 2,
   "id": "26673476",
   "metadata": {},
   "outputs": [
    {
     "data": {
      "text/html": [
       "<div>\n",
       "<style scoped>\n",
       "    .dataframe tbody tr th:only-of-type {\n",
       "        vertical-align: middle;\n",
       "    }\n",
       "\n",
       "    .dataframe tbody tr th {\n",
       "        vertical-align: top;\n",
       "    }\n",
       "\n",
       "    .dataframe thead th {\n",
       "        text-align: right;\n",
       "    }\n",
       "</style>\n",
       "<table border=\"1\" class=\"dataframe\">\n",
       "  <thead>\n",
       "    <tr style=\"text-align: right;\">\n",
       "      <th></th>\n",
       "      <th>airline_name</th>\n",
       "      <th>overall_rating</th>\n",
       "      <th>review_title</th>\n",
       "      <th>review_date</th>\n",
       "      <th>review</th>\n",
       "      <th>aircraft</th>\n",
       "      <th>type_of_traveller</th>\n",
       "      <th>seat_type</th>\n",
       "      <th>route</th>\n",
       "      <th>date_flown</th>\n",
       "      <th>seat_comfort</th>\n",
       "      <th>cabin_staff_service</th>\n",
       "      <th>food_e_beverages</th>\n",
       "      <th>ground_service</th>\n",
       "      <th>inflight_entertainment</th>\n",
       "      <th>wifi_e_connectivity</th>\n",
       "      <th>review_clean</th>\n",
       "      <th>review_title_clean</th>\n",
       "      <th>review_day_of_week</th>\n",
       "      <th>date_flown_day_of_week</th>\n",
       "      <th>review_year_month</th>\n",
       "      <th>date_flown_year_month</th>\n",
       "      <th>review_year</th>\n",
       "      <th>date_flown_year</th>\n",
       "      <th>review_month</th>\n",
       "      <th>date_flown_month</th>\n",
       "      <th>days_difference</th>\n",
       "      <th>rating_category</th>\n",
       "      <th>rating_category_numeric</th>\n",
       "      <th>full_review_text</th>\n",
       "      <th>is_delay</th>\n",
       "    </tr>\n",
       "  </thead>\n",
       "  <tbody>\n",
       "    <tr>\n",
       "      <th>0</th>\n",
       "      <td>Air Seychelles</td>\n",
       "      <td>8</td>\n",
       "      <td>Air Seychelles customer review</td>\n",
       "      <td>2011-04-10</td>\n",
       "      <td>LHR-SEZ-LHR. It's true that there aren't perso...</td>\n",
       "      <td>None</td>\n",
       "      <td>None</td>\n",
       "      <td>Economy Class</td>\n",
       "      <td>None</td>\n",
       "      <td>NaT</td>\n",
       "      <td>NaN</td>\n",
       "      <td>NaN</td>\n",
       "      <td>NaN</td>\n",
       "      <td>NaN</td>\n",
       "      <td>NaN</td>\n",
       "      <td>NaN</td>\n",
       "      <td>lhrsezlhr true not personal tv like virgin ba ...</td>\n",
       "      <td>air seychelle customer review</td>\n",
       "      <td>Sunday</td>\n",
       "      <td>None</td>\n",
       "      <td>2011-04</td>\n",
       "      <td>NaT</td>\n",
       "      <td>2011.0</td>\n",
       "      <td>NaN</td>\n",
       "      <td>4.0</td>\n",
       "      <td>NaN</td>\n",
       "      <td>NaN</td>\n",
       "      <td>Positivo</td>\n",
       "      <td>1</td>\n",
       "      <td>Air Seychelles customer review LHR-SEZ-LHR. It...</td>\n",
       "      <td>0</td>\n",
       "    </tr>\n",
       "    <tr>\n",
       "      <th>1</th>\n",
       "      <td>CityJet</td>\n",
       "      <td>1</td>\n",
       "      <td>CityJet customer review</td>\n",
       "      <td>2011-04-10</td>\n",
       "      <td>London City to Antwerp was delayed 3 hours 40 ...</td>\n",
       "      <td>None</td>\n",
       "      <td>None</td>\n",
       "      <td>Economy Class</td>\n",
       "      <td>None</td>\n",
       "      <td>NaT</td>\n",
       "      <td>NaN</td>\n",
       "      <td>NaN</td>\n",
       "      <td>NaN</td>\n",
       "      <td>NaN</td>\n",
       "      <td>NaN</td>\n",
       "      <td>NaN</td>\n",
       "      <td>london city antwerp delay   hour   min sure tr...</td>\n",
       "      <td>cityjet customer review</td>\n",
       "      <td>Sunday</td>\n",
       "      <td>None</td>\n",
       "      <td>2011-04</td>\n",
       "      <td>NaT</td>\n",
       "      <td>2011.0</td>\n",
       "      <td>NaN</td>\n",
       "      <td>4.0</td>\n",
       "      <td>NaN</td>\n",
       "      <td>NaN</td>\n",
       "      <td>Negativo</td>\n",
       "      <td>-1</td>\n",
       "      <td>CityJet customer review London City to Antwerp...</td>\n",
       "      <td>1</td>\n",
       "    </tr>\n",
       "  </tbody>\n",
       "</table>\n",
       "</div>"
      ],
      "text/plain": [
       "     airline_name  overall_rating                    review_title review_date  \\\n",
       "0  Air Seychelles               8  Air Seychelles customer review  2011-04-10   \n",
       "1         CityJet               1         CityJet customer review  2011-04-10   \n",
       "\n",
       "                                              review aircraft  \\\n",
       "0  LHR-SEZ-LHR. It's true that there aren't perso...     None   \n",
       "1  London City to Antwerp was delayed 3 hours 40 ...     None   \n",
       "\n",
       "  type_of_traveller      seat_type route date_flown  seat_comfort  \\\n",
       "0              None  Economy Class  None        NaT           NaN   \n",
       "1              None  Economy Class  None        NaT           NaN   \n",
       "\n",
       "   cabin_staff_service  food_e_beverages  ground_service  \\\n",
       "0                  NaN               NaN             NaN   \n",
       "1                  NaN               NaN             NaN   \n",
       "\n",
       "   inflight_entertainment  wifi_e_connectivity  \\\n",
       "0                     NaN                  NaN   \n",
       "1                     NaN                  NaN   \n",
       "\n",
       "                                        review_clean  \\\n",
       "0  lhrsezlhr true not personal tv like virgin ba ...   \n",
       "1  london city antwerp delay   hour   min sure tr...   \n",
       "\n",
       "              review_title_clean review_day_of_week date_flown_day_of_week  \\\n",
       "0  air seychelle customer review             Sunday                   None   \n",
       "1        cityjet customer review             Sunday                   None   \n",
       "\n",
       "  review_year_month date_flown_year_month  review_year  date_flown_year  \\\n",
       "0           2011-04                   NaT       2011.0              NaN   \n",
       "1           2011-04                   NaT       2011.0              NaN   \n",
       "\n",
       "   review_month  date_flown_month  days_difference rating_category  \\\n",
       "0           4.0               NaN              NaN        Positivo   \n",
       "1           4.0               NaN              NaN        Negativo   \n",
       "\n",
       "   rating_category_numeric                                   full_review_text  \\\n",
       "0                        1  Air Seychelles customer review LHR-SEZ-LHR. It...   \n",
       "1                       -1  CityJet customer review London City to Antwerp...   \n",
       "\n",
       "   is_delay  \n",
       "0         0  \n",
       "1         1  "
      ]
     },
     "execution_count": 2,
     "metadata": {},
     "output_type": "execute_result"
    }
   ],
   "source": [
    "df = pd.read_parquet(\"../data/processed/abt_airline_reviews.parquet\")\n",
    "df.head(2)"
   ]
  },
  {
   "cell_type": "markdown",
   "id": "a7d7757b",
   "metadata": {},
   "source": [
    "## Processamento dos dados"
   ]
  },
  {
   "cell_type": "code",
   "execution_count": 3,
   "id": "b804757d",
   "metadata": {},
   "outputs": [
    {
     "name": "stdout",
     "output_type": "stream",
     "text": [
      "Colunas removidas por excesso de nulos (>60%): ['aircraft', 'wifi_e_connectivity']\n"
     ]
    }
   ],
   "source": [
    "threshold = 0.6 \n",
    "missing_ratio = df.isnull().mean()\n",
    "cols_to_drop = missing_ratio[missing_ratio > threshold].index\n",
    "df = df.drop(columns=cols_to_drop)\n",
    "\n",
    "print(f'Colunas removidas por excesso de nulos (>60%): {list(cols_to_drop)}')"
   ]
  },
  {
   "cell_type": "markdown",
   "id": "d5de8885",
   "metadata": {},
   "source": [
    "## Configuração em comum entre os modelos"
   ]
  },
  {
   "cell_type": "code",
   "execution_count": 4,
   "id": "5f6fc649",
   "metadata": {},
   "outputs": [],
   "source": [
    "y = df['rating_category_numeric']"
   ]
  },
  {
   "cell_type": "code",
   "execution_count": 5,
   "id": "c2310bc0",
   "metadata": {},
   "outputs": [
    {
     "data": {
      "text/plain": [
       "17367"
      ]
     },
     "execution_count": 5,
     "metadata": {},
     "output_type": "execute_result"
    }
   ],
   "source": [
    "len(y)"
   ]
  },
  {
   "cell_type": "markdown",
   "id": "f7965cf7",
   "metadata": {},
   "source": [
    "## Model 1 - Input Texto"
   ]
  },
  {
   "cell_type": "code",
   "execution_count": 6,
   "id": "284ef9f6",
   "metadata": {},
   "outputs": [],
   "source": [
    "tfidf = TfidfVectorizer(max_features=1000, stop_words='english')\n",
    "X_text = tfidf.fit_transform(df['full_review_text'])"
   ]
  },
  {
   "cell_type": "code",
   "execution_count": 7,
   "id": "a0098a86",
   "metadata": {},
   "outputs": [],
   "source": [
    "# Aplica SMOTE nos dados vetorizados\n",
    "smote = SMOTE(random_state=42)\n",
    "X_text_res, y_res = smote.fit_resample(X_text, y)"
   ]
  },
  {
   "cell_type": "code",
   "execution_count": 8,
   "id": "53974b5c",
   "metadata": {},
   "outputs": [
    {
     "name": "stdout",
     "output_type": "stream",
     "text": [
      "🔹 Avaliação do modelo com texto:\n",
      "              precision    recall  f1-score   support\n",
      "\n",
      "          -1       0.81      0.77      0.79      3657\n",
      "           0       0.73      0.73      0.73      3697\n",
      "           1       0.79      0.82      0.80      3707\n",
      "\n",
      "    accuracy                           0.78     11061\n",
      "   macro avg       0.78      0.78      0.78     11061\n",
      "weighted avg       0.78      0.78      0.78     11061\n",
      "\n"
     ]
    }
   ],
   "source": [
    "# Divisão em treino e teste\n",
    "X_train_text, X_test_text, y_train, y_test = train_test_split(X_text_res, y_res, test_size=0.3, random_state=42)\n",
    "\n",
    "# Modelo com Logistic Regression\n",
    "model_text = LogisticRegression(max_iter=200)\n",
    "model_text.fit(X_train_text, y_train)\n",
    "y_pred_text = model_text.predict(X_test_text)\n",
    "\n",
    "print(\"🔹 Avaliação do modelo com texto:\")\n",
    "print(classification_report(y_test, y_pred_text))"
   ]
  },
  {
   "cell_type": "code",
   "execution_count": 9,
   "id": "e08517be",
   "metadata": {},
   "outputs": [
    {
     "name": "stdout",
     "output_type": "stream",
     "text": [
      "🔹 Avaliação com dados textuais (TF-IDF + SMOTE):\n",
      "\n",
      "Logistic Regression: média = 0.718 | desvio padrão = 0.009\n",
      "Random Forest: média = 0.746 | desvio padrão = 0.008\n",
      "Naive Bayes: média = 0.716 | desvio padrão = 0.006\n"
     ]
    }
   ],
   "source": [
    "# Validação cruzada com diferentes modelos e SMOTE dentro do pipeline\n",
    "models_text = {\n",
    "    'Logistic Regression': LogisticRegression(max_iter=200),\n",
    "    'Random Forest': RandomForestClassifier(),\n",
    "    'Naive Bayes': MultinomialNB()\n",
    "}\n",
    "\n",
    "print(\"🔹 Avaliação com dados textuais (TF-IDF + SMOTE):\\n\")\n",
    "for name, model in models_text.items():\n",
    "    pipeline = ImbPipeline([\n",
    "        ('tfidf', TfidfVectorizer(max_features=1000, stop_words='english')),\n",
    "        ('smote', SMOTE(random_state=42)),\n",
    "        ('clf', model)\n",
    "    ])\n",
    "    scores = cross_val_score(pipeline, df['full_review_text'], y, \n",
    "                             cv=StratifiedKFold(n_splits=10, shuffle=True, random_state=42), \n",
    "                             scoring='accuracy')\n",
    "    print(f'{name}: média = {scores.mean():.3f} | desvio padrão = {scores.std():.3f}')"
   ]
  },
  {
   "cell_type": "markdown",
   "id": "8158ab04",
   "metadata": {},
   "source": [
    "## Model 2 - Inputs Numéricos"
   ]
  },
  {
   "cell_type": "code",
   "execution_count": 10,
   "id": "bcc5113c",
   "metadata": {},
   "outputs": [],
   "source": [
    "feature_cols = [\n",
    "    'seat_comfort', 'cabin_staff_service', 'food_e_beverages',\n",
    "    'ground_service', 'inflight_entertainment'\n",
    "]\n",
    "\n",
    "X_scores = df[feature_cols].astype(float).fillna(df[feature_cols].mean())\n"
   ]
  },
  {
   "cell_type": "code",
   "execution_count": 11,
   "id": "9a4bf18c",
   "metadata": {},
   "outputs": [],
   "source": [
    "# Aplica SMOTE\n",
    "smote = SMOTE(random_state=42)\n",
    "X_scores_res, y_res = smote.fit_resample(X_scores, y)"
   ]
  },
  {
   "cell_type": "code",
   "execution_count": 12,
   "metadata": {},
   "outputs": [
    {
     "name": "stdout",
     "output_type": "stream",
     "text": [
      "🔹 Avaliação do modelo com notas:\n",
      "              precision    recall  f1-score   support\n",
      "\n",
      "          -1       0.64      0.78      0.70      3657\n",
      "           0       0.70      0.43      0.53      3697\n",
      "           1       0.68      0.80      0.74      3707\n",
      "\n",
      "    accuracy                           0.67     11061\n",
      "   macro avg       0.68      0.67      0.66     11061\n",
      "weighted avg       0.68      0.67      0.66     11061\n",
      "\n"
     ]
    }
   ],
   "source": [
    "# Divisão em treino e teste\n",
    "X_train_scores, X_test_scores, y_train, y_test = train_test_split(X_scores_res, y_res, test_size=0.3, random_state=42)\n",
    "\n",
    "# Padronização dos dados\n",
    "scaler = StandardScaler()\n",
    "X_train_scaled = scaler.fit_transform(X_train_scores)\n",
    "X_test_scaled = scaler.transform(X_test_scores)\n",
    "\n",
    "# Modelo com Logistic Regression\n",
    "model_scores = LogisticRegression(max_iter=200)\n",
    "model_scores.fit(X_train_scaled, y_train)\n",
    "y_pred_scores = model_scores.predict(X_test_scaled)\n",
    "\n",
    "print(\"🔹 Avaliação do modelo com notas:\")\n",
    "print(classification_report(y_test, y_pred_scores))"
   ]
  },
  {
   "cell_type": "code",
   "execution_count": 13,
   "id": "b5757b09",
   "metadata": {},
   "outputs": [
    {
     "name": "stdout",
     "output_type": "stream",
     "text": [
      "\n",
      "🔹 Avaliação com notas (features numéricas):\n",
      "\n",
      "Logistic Regression: média = 0.731 | desvio padrão = 0.010\n",
      "Random Forest: média = 0.728 | desvio padrão = 0.018\n",
      "Naive Bayes: média = 0.680 | desvio padrão = 0.006\n"
     ]
    }
   ],
   "source": [
    "# Avaliação com validação cruzada + SMOTE + Scaler para todos os modelos\n",
    "models_scores = {\n",
    "    'Logistic Regression': LogisticRegression(max_iter=200),\n",
    "    'Random Forest': RandomForestClassifier(),\n",
    "    'Naive Bayes': GaussianNB()\n",
    "}\n",
    "\n",
    "print(\"\\n🔹 Avaliação com notas (features numéricas):\\n\")\n",
    "for name, model in models_scores.items():\n",
    "    pipeline = ImbPipeline([\n",
    "        ('scaler', StandardScaler()),\n",
    "        ('smote', SMOTE(random_state=42)),\n",
    "        ('clf', model)\n",
    "    ])\n",
    "    scores = cross_val_score(pipeline, X_scores, y, \n",
    "                             cv=StratifiedKFold(n_splits=10, shuffle=True, random_state=42),\n",
    "                             scoring='accuracy')\n",
    "    print(f'{name}: média = {scores.mean():.3f} | desvio padrão = {scores.std():.3f}')"
   ]
  },
  {
   "cell_type": "markdown",
   "id": "1ad19f42",
   "metadata": {},
   "source": [
    "## Impacto de atrasos no NPS"
   ]
  },
  {
   "cell_type": "code",
   "execution_count": 14,
   "id": "8b4d86da",
   "metadata": {},
   "outputs": [],
   "source": [
    "def nps_result(top_airlines, df, model_text=model_text, tfidf=tfidf):\n",
    "    nps_resultados = []\n",
    "\n",
    "    for airline in top_airlines:\n",
    "        df_comp = df[df['airline_name'] == airline]\n",
    "        \n",
    "        for status, label in zip([0, 1], ['Sem Atraso', 'Com Atraso']):\n",
    "            subset = df_comp[df_comp['is_delay'] == status]\n",
    "            \n",
    "            # Preprocessamento básico (se necessário)\n",
    "            textos = (subset['review'].fillna('') + ' ' + subset['review_title'].fillna('')).tolist()\n",
    "            X_text = tfidf.transform(textos)\n",
    "            \n",
    "            # Previsão de sentimento\n",
    "            preds = model_text.predict(X_text)\n",
    "\n",
    "            # Calcular % positivos e % negativos\n",
    "            positivos = np.sum(preds == 1)\n",
    "            negativos = np.sum(preds == -1)\n",
    "            total = positivos + negativos\n",
    "\n",
    "            if total == 0:\n",
    "                nps = np.nan\n",
    "            else:\n",
    "                nps = (positivos / total - negativos / total) * 100\n",
    "            \n",
    "            nps_resultados.append({\n",
    "                'Companhia': airline,\n",
    "                'Atraso': label,\n",
    "                'NPS': round(nps, 2)\n",
    "            })\n",
    "\n",
    "    # Exibir como DataFrame\n",
    "    nps_df = pd.DataFrame(nps_resultados)\n",
    "    print(nps_df)"
   ]
  },
  {
   "cell_type": "markdown",
   "id": "3ed3736c",
   "metadata": {},
   "source": [
    "### Seleção de 3 companhias aéreas - mais frequentes"
   ]
  },
  {
   "cell_type": "code",
   "execution_count": 15,
   "id": "55ee5c7c",
   "metadata": {},
   "outputs": [
    {
     "name": "stdout",
     "output_type": "stream",
     "text": [
      "Companhias aéreas mais frequentes:\n",
      "Index(['Oman Air', 'EVA Air', 'Air Arabia'], dtype='object', name='airline_name')\n"
     ]
    }
   ],
   "source": [
    "top_airlines = df['airline_name'].value_counts().head(3).index\n",
    "\n",
    "print(\"Companhias aéreas mais frequentes:\")\n",
    "print(top_airlines)"
   ]
  },
  {
   "cell_type": "code",
   "execution_count": 16,
   "id": "2ed3318a",
   "metadata": {},
   "outputs": [
    {
     "name": "stdout",
     "output_type": "stream",
     "text": [
      "    Companhia      Atraso     NPS\n",
      "0    Oman Air  Sem Atraso  -27.27\n",
      "1    Oman Air  Com Atraso  -80.95\n",
      "2     EVA Air  Sem Atraso   35.00\n",
      "3     EVA Air  Com Atraso  -22.58\n",
      "4  Air Arabia  Sem Atraso  -78.95\n",
      "5  Air Arabia  Com Atraso -100.00\n"
     ]
    }
   ],
   "source": [
    "nps_result(top_airlines, df)"
   ]
  },
  {
   "cell_type": "code",
   "execution_count": 17,
   "id": "4a68f176",
   "metadata": {},
   "outputs": [
    {
     "name": "stdout",
     "output_type": "stream",
     "text": [
      "Avaliações negativas:  218\n",
      "Avaliações positivas:  43\n",
      "Avaliações neutras:  39\n"
     ]
    }
   ],
   "source": [
    "print(\"Avaliações negativas: \", len(df[(df['airline_name'].isin(top_airlines)) & (df['rating_category_numeric'] == -1)]))\n",
    "print(\"Avaliações positivas: \", len(df[(df['airline_name'].isin(top_airlines)) & (df['rating_category_numeric'] == 1)]))\n",
    "print(\"Avaliações neutras: \", len(df[(df['airline_name'].isin(top_airlines)) & (df['rating_category_numeric'] == 0)]))"
   ]
  },
  {
   "cell_type": "markdown",
   "id": "6cd8c011",
   "metadata": {},
   "source": [
    "### Seleção de 3 companhias aéreas - avaliação +negativas"
   ]
  },
  {
   "cell_type": "code",
   "execution_count": 18,
   "id": "dfc96fde",
   "metadata": {},
   "outputs": [
    {
     "name": "stdout",
     "output_type": "stream",
     "text": [
      "Companhias aéreas mais frequentes:\n",
      "Index(['Interjet', 'Frontier Airlines', 'Spirit Airlines'], dtype='object', name='airline_name')\n"
     ]
    }
   ],
   "source": [
    "top_negative_airlines = df[df.rating_category=='Negativo']['airline_name'].value_counts().head(3).index\n",
    "\n",
    "print(\"Companhias aéreas mais frequentes:\")\n",
    "print(top_negative_airlines)"
   ]
  },
  {
   "cell_type": "code",
   "execution_count": 19,
   "id": "eb15a12d",
   "metadata": {},
   "outputs": [
    {
     "name": "stdout",
     "output_type": "stream",
     "text": [
      "Avaliações negativas:  293\n",
      "Avaliações positivas:  3\n",
      "Avaliações neutras:  4\n"
     ]
    }
   ],
   "source": [
    "print(\"Avaliações negativas: \", len(df[(df['airline_name'].isin(top_negative_airlines)) & (df['rating_category_numeric'] == -1)]))\n",
    "print(\"Avaliações positivas: \", len(df[(df['airline_name'].isin(top_negative_airlines)) & (df['rating_category_numeric'] == 1)]))\n",
    "print(\"Avaliações neutras: \", len(df[(df['airline_name'].isin(top_negative_airlines)) & (df['rating_category_numeric'] == 0)]))"
   ]
  },
  {
   "cell_type": "code",
   "execution_count": 20,
   "id": "45380fef",
   "metadata": {},
   "outputs": [
    {
     "name": "stdout",
     "output_type": "stream",
     "text": [
      "           Companhia      Atraso     NPS\n",
      "0           Interjet  Sem Atraso  -93.33\n",
      "1           Interjet  Com Atraso -100.00\n",
      "2  Frontier Airlines  Sem Atraso  -88.00\n",
      "3  Frontier Airlines  Com Atraso -100.00\n",
      "4    Spirit Airlines  Sem Atraso  -88.68\n",
      "5    Spirit Airlines  Com Atraso -100.00\n"
     ]
    }
   ],
   "source": [
    "nps_result(top_negative_airlines, df)"
   ]
  },
  {
   "cell_type": "markdown",
   "id": "b901d608",
   "metadata": {},
   "source": [
    "### Seleção de 3 companhias aéreas - avaliação +positivas"
   ]
  },
  {
   "cell_type": "code",
   "execution_count": 21,
   "id": "c5fb76fc",
   "metadata": {},
   "outputs": [
    {
     "name": "stdout",
     "output_type": "stream",
     "text": [
      "Companhias aéreas mais frequentes:\n",
      "Index(['China Southern Airlines', 'QantasLink', 'Bulgaria Air'], dtype='object', name='airline_name')\n"
     ]
    }
   ],
   "source": [
    "top_positive_airlines = df[df.rating_category=='Positivo']['airline_name'].value_counts().head(3).index\n",
    "\n",
    "print(\"Companhias aéreas mais frequentes:\")\n",
    "print(top_positive_airlines)"
   ]
  },
  {
   "cell_type": "code",
   "execution_count": 22,
   "id": "89cebe47",
   "metadata": {},
   "outputs": [
    {
     "name": "stdout",
     "output_type": "stream",
     "text": [
      "                 Companhia      Atraso    NPS\n",
      "0  China Southern Airlines  Sem Atraso  61.04\n",
      "1  China Southern Airlines  Com Atraso  66.67\n",
      "2               QantasLink  Sem Atraso  55.10\n",
      "3               QantasLink  Com Atraso  30.43\n",
      "4             Bulgaria Air  Sem Atraso  34.69\n",
      "5             Bulgaria Air  Com Atraso -15.79\n"
     ]
    }
   ],
   "source": [
    "nps_result(top_positive_airlines, df)"
   ]
  },
  {
   "cell_type": "code",
   "execution_count": 23,
   "id": "d097c40e",
   "metadata": {},
   "outputs": [
    {
     "name": "stdout",
     "output_type": "stream",
     "text": [
      "Avaliações negativas:  101\n",
      "Avaliações positivas:  158\n",
      "Avaliações neutras:  35\n"
     ]
    }
   ],
   "source": [
    "print(\"Avaliações negativas: \", len(df[(df['airline_name'].isin(top_positive_airlines)) & (df['rating_category_numeric'] == -1)]))\n",
    "print(\"Avaliações positivas: \", len(df[(df['airline_name'].isin(top_positive_airlines)) & (df['rating_category_numeric'] == 1)]))\n",
    "print(\"Avaliações neutras: \", len(df[(df['airline_name'].isin(top_positive_airlines)) & (df['rating_category_numeric'] == 0)]))"
   ]
  }
 ],
 "metadata": {
  "kernelspec": {
   "display_name": ".venv",
   "language": "python",
   "name": "python3"
  },
  "language_info": {
   "codemirror_mode": {
    "name": "ipython",
    "version": 3
   },
   "file_extension": ".py",
   "mimetype": "text/x-python",
   "name": "python",
   "nbconvert_exporter": "python",
   "pygments_lexer": "ipython3",
   "version": "3.12.10"
  }
 },
 "nbformat": 4,
 "nbformat_minor": 5
}
